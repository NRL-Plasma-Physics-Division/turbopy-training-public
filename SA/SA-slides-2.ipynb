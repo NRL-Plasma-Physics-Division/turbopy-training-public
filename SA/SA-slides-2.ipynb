{
 "cells": [
  {
   "cell_type": "markdown",
   "metadata": {
    "slideshow": {
     "slide_type": "slide"
    }
   },
   "source": [
    "TurboPy and Computational Physics\n",
    "=================================\n",
    "\n",
    "The goal of these slides is to give a very high level overview of what `turboPy` is, and where it fits into the world of computational physics."
   ]
  },
  {
   "cell_type": "markdown",
   "metadata": {
    "slideshow": {
     "slide_type": "notes"
    }
   },
   "source": [
    "Use this command to convert the notebook to slides:\n",
    "```bash\n",
    "jupyter nbconvert SA-slides-2.ipynb --to slides --post serve\n",
    "```"
   ]
  },
  {
   "cell_type": "markdown",
   "metadata": {
    "slideshow": {
     "slide_type": "slide"
    }
   },
   "source": [
    "What is Physics?\n",
    "================\n",
    "*Describing the real world using simplified models, so that math can be used to make predictions about the real world*"
   ]
  },
  {
   "cell_type": "markdown",
   "metadata": {
    "slideshow": {
     "slide_type": "subslide"
    }
   },
   "source": [
    "Real World:\n",
    "\n",
    "![cow](https://itspronouncedkeenwah.files.wordpress.com/2016/11/cow-in-field-climate-change-global-warming.jpg?w=1440)\n"
   ]
  },
  {
   "cell_type": "markdown",
   "metadata": {
    "slideshow": {
     "slide_type": "subslide"
    }
   },
   "source": [
    "Reduced Model:\n",
    "\n",
    "![spherical cow](https://upload.wikimedia.org/wikipedia/commons/2/24/Spot_the_cow.gif)\n"
   ]
  },
  {
   "cell_type": "markdown",
   "metadata": {
    "slideshow": {
     "slide_type": "subslide"
    }
   },
   "source": [
    "Math that describes the model:\n",
    "\n",
    "$$\n",
    "A = 4\\pi r^2\n",
    "$$\n",
    "$$\n",
    "V = \\frac{4}{3} \\pi r^3\n",
    "$$"
   ]
  },
  {
   "cell_type": "markdown",
   "metadata": {
    "slideshow": {
     "slide_type": "slide"
    }
   },
   "source": [
    "Computational Physics\n",
    "=====================\n",
    "The equations that arise from many physics models do not have analytical solutions. That is, they can't be solved by hand.\n",
    "\n",
    "In this case, they are often solved using numerical techniques such as finite difference methods:\n",
    "$$\n",
    "\\frac{dx}{dt} = v \n",
    "\\quad \\rightarrow \n",
    "\\quad x(t+\\Delta t) = x(t) + \\Delta t \\, v(t)\n",
    "$$"
   ]
  },
  {
   "cell_type": "markdown",
   "metadata": {
    "slideshow": {
     "slide_type": "slide"
    }
   },
   "source": [
    "Tools for computational physics\n",
    "===============================\n",
    "- **Low level**, procedural scripts, simple fortran/c++/python, etc:\n",
    "    - Write code from scratch which implements a numerical algorithm to solve the equations\n",
    "- **Mid level**, frameworks, numerical libraries, etc:\n",
    "    - Call pre-written code, which implements standard algorithms\n",
    "    - *Examples* MatLab toolboxes, numpy/scipy (python numerical libraries), BLAS/LAPACK\n",
    "- **High level**, complete codes that solve specific problems\n",
    "    - Use GUI interfaces or configuration files (sometimes called \"input decks\" for historical reasons) to select from options or set parameters\n"
   ]
  },
  {
   "cell_type": "markdown",
   "metadata": {
    "slideshow": {
     "slide_type": "slide"
    }
   },
   "source": [
    "Analogy: building a computer\n",
    "============================\n",
    "\n",
    "- **Low level**, do everything from scratch:\n",
    "    - Design and fab all chips (CPU, RAM, etc) from scratch\n",
    "    - Gives the most flexibility, but requires the most work\n",
    "- **Mid level**, select prebuild components:\n",
    "    - Choose case, power supply, CPU, RAM, graphics, motherboard, etc\n",
    "    - Provides a lot of flexibility, and requires much less work\n",
    "- **High level**, configure off-the-shelf system\n",
    "    - Choose from small number of options, e.g., MacBook Pro or Microsoft Surface\n",
    "    - Provides the least flexibility, but is the quickest way to get a working computer"
   ]
  },
  {
   "cell_type": "markdown",
   "metadata": {
    "slideshow": {
     "slide_type": "slide"
    }
   },
   "source": [
    "Where does turboPy fit in?\n",
    "==========================\n",
    "\n",
    "TurboPy is a mid-level tool. It's a *lightweight framework* for computational physics.\n",
    "\n",
    "Many physics models need to solve a time-dependent differential equation. So turboPy provides a *clock* and *main simulation loop*.\n",
    "\n",
    "Many physics models need information about quantities that vary in space. So turboPy provides a *grid*.\n",
    "\n",
    "It also provides the framework to define custom `PhysicsModules`; so that users can define their own physics models.\n",
    "\n",
    "Additionally it provides tools need for saving data from the simulations."
   ]
  },
  {
   "cell_type": "markdown",
   "metadata": {
    "slideshow": {
     "slide_type": "slide"
    }
   },
   "source": [
    "Questions?\n",
    "=========="
   ]
  }
 ],
 "metadata": {
  "kernelspec": {
   "display_name": "Python 3",
   "language": "python",
   "name": "python3"
  },
  "language_info": {
   "codemirror_mode": {
    "name": "ipython",
    "version": 3
   },
   "file_extension": ".py",
   "mimetype": "text/x-python",
   "name": "python",
   "nbconvert_exporter": "python",
   "pygments_lexer": "ipython3",
   "version": "3.7.3"
  }
 },
 "nbformat": 4,
 "nbformat_minor": 4
}